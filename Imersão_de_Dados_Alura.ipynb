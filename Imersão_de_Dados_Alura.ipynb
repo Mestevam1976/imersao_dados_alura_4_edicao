{
  "nbformat": 4,
  "nbformat_minor": 0,
  "metadata": {
    "colab": {
      "name": "Imersão de Dados Alura.ipynb",
      "provenance": [],
      "collapsed_sections": []
    },
    "kernelspec": {
      "name": "python3",
      "display_name": "Python 3"
    },
    "language_info": {
      "name": "python"
    }
  },
  "cells": [
    {
      "cell_type": "markdown",
      "source": [
        "# Imersão Dados"
      ],
      "metadata": {
        "id": "3Zg15MOMjfwT"
      }
    },
    {
      "cell_type": "markdown",
      "source": [
        "Antes de tudo temos que importar uma biblioteca chamada Pandas, ela é específica para trabalharmos com DataFrames (que são os dados organizados como uma tabela de Excel, por exemplo)"
      ],
      "metadata": {
        "id": "l1aAxOEwyCqi"
      }
    },
    {
      "cell_type": "code",
      "source": [
        "import pandas as pd\n",
        "import numpy as np"
      ],
      "metadata": {
        "id": "Fv5Pv1R1jahP"
      },
      "execution_count": null,
      "outputs": []
    },
    {
      "cell_type": "markdown",
      "source": [
        "Depois de importado a biblioteca Pandas, indicamos onde está o arquivo que queremos trabalhar, no caso, é um endereço na internet, logo, temos que atribuir esse endereço em uma variável, no caso, chamei ela de \"caminho\".\n",
        "\n",
        "Depois, criamos outra variável e acionamos a biblioteca Pandas para fazer a leitura desse arquivo (que está no formato .csv (valores separados por vírgula), esse formato pode ser diverso: html, .json, pdf).\n",
        "\n",
        "Após fazer a leitura, pedimos para exibir somente as 5 primeiras linhas desse DataFrame com o comando .head() - que é o cabeçalho do DataFrame."
      ],
      "metadata": {
        "id": "KvcUD1AiyTxY"
      }
    },
    {
      "cell_type": "code",
      "source": [
        "caminho = \"https://gist.githubusercontent.com/tgcsantos/3bdb29eba6ce391e90df2b72205ba891/raw/22fa920e80c9fa209a9fccc8b52d74cc95d1599b/dados_imoveis.csv\"\n",
        "\n",
        "dados = pd.read_csv(caminho)\n",
        "\n",
        "dados.head()"
      ],
      "metadata": {
        "id": "V2X_HWCGjw9c",
        "colab": {
          "base_uri": "https://localhost:8080/",
          "height": 206
        },
        "outputId": "4a0898b4-89f5-4941-f36b-31015f4ec34a"
      },
      "execution_count": null,
      "outputs": [
        {
          "output_type": "execute_result",
          "data": {
            "text/plain": [
              "                              Rua              Bairro     Cidade  Metragem  \\\n",
              "0           Avenida Itacira, 255    Planalto Paulista  São Paulo      1000   \n",
              "1  Rua Aurelia Perez Alvarez, 42   Jardim dos Estados  São Paulo       496   \n",
              "2                 Rua Alba Valdez     Jardim Reimberg  São Paulo       125   \n",
              "3                             NaN      Jardim Morumbi  São Paulo       310   \n",
              "4        Rua Tobias Barreto, 195                Mooca  São Paulo       100   \n",
              "\n",
              "   Quartos  Banheiros  Vagas         Valor  \n",
              "0        4          8      6  R$ 7.000.000  \n",
              "1        4          4      4  R$ 3.700.000  \n",
              "2        4          3      2    R$ 380.000  \n",
              "3        3          2      4    R$ 685.000  \n",
              "4        3          2      2    R$ 540.000  "
            ],
            "text/html": [
              "\n",
              "  <div id=\"df-381dda7e-1234-4523-906d-201adb937175\">\n",
              "    <div class=\"colab-df-container\">\n",
              "      <div>\n",
              "<style scoped>\n",
              "    .dataframe tbody tr th:only-of-type {\n",
              "        vertical-align: middle;\n",
              "    }\n",
              "\n",
              "    .dataframe tbody tr th {\n",
              "        vertical-align: top;\n",
              "    }\n",
              "\n",
              "    .dataframe thead th {\n",
              "        text-align: right;\n",
              "    }\n",
              "</style>\n",
              "<table border=\"1\" class=\"dataframe\">\n",
              "  <thead>\n",
              "    <tr style=\"text-align: right;\">\n",
              "      <th></th>\n",
              "      <th>Rua</th>\n",
              "      <th>Bairro</th>\n",
              "      <th>Cidade</th>\n",
              "      <th>Metragem</th>\n",
              "      <th>Quartos</th>\n",
              "      <th>Banheiros</th>\n",
              "      <th>Vagas</th>\n",
              "      <th>Valor</th>\n",
              "    </tr>\n",
              "  </thead>\n",
              "  <tbody>\n",
              "    <tr>\n",
              "      <th>0</th>\n",
              "      <td>Avenida Itacira, 255</td>\n",
              "      <td>Planalto Paulista</td>\n",
              "      <td>São Paulo</td>\n",
              "      <td>1000</td>\n",
              "      <td>4</td>\n",
              "      <td>8</td>\n",
              "      <td>6</td>\n",
              "      <td>R$ 7.000.000</td>\n",
              "    </tr>\n",
              "    <tr>\n",
              "      <th>1</th>\n",
              "      <td>Rua Aurelia Perez Alvarez, 42</td>\n",
              "      <td>Jardim dos Estados</td>\n",
              "      <td>São Paulo</td>\n",
              "      <td>496</td>\n",
              "      <td>4</td>\n",
              "      <td>4</td>\n",
              "      <td>4</td>\n",
              "      <td>R$ 3.700.000</td>\n",
              "    </tr>\n",
              "    <tr>\n",
              "      <th>2</th>\n",
              "      <td>Rua Alba Valdez</td>\n",
              "      <td>Jardim Reimberg</td>\n",
              "      <td>São Paulo</td>\n",
              "      <td>125</td>\n",
              "      <td>4</td>\n",
              "      <td>3</td>\n",
              "      <td>2</td>\n",
              "      <td>R$ 380.000</td>\n",
              "    </tr>\n",
              "    <tr>\n",
              "      <th>3</th>\n",
              "      <td>NaN</td>\n",
              "      <td>Jardim Morumbi</td>\n",
              "      <td>São Paulo</td>\n",
              "      <td>310</td>\n",
              "      <td>3</td>\n",
              "      <td>2</td>\n",
              "      <td>4</td>\n",
              "      <td>R$ 685.000</td>\n",
              "    </tr>\n",
              "    <tr>\n",
              "      <th>4</th>\n",
              "      <td>Rua Tobias Barreto, 195</td>\n",
              "      <td>Mooca</td>\n",
              "      <td>São Paulo</td>\n",
              "      <td>100</td>\n",
              "      <td>3</td>\n",
              "      <td>2</td>\n",
              "      <td>2</td>\n",
              "      <td>R$ 540.000</td>\n",
              "    </tr>\n",
              "  </tbody>\n",
              "</table>\n",
              "</div>\n",
              "      <button class=\"colab-df-convert\" onclick=\"convertToInteractive('df-381dda7e-1234-4523-906d-201adb937175')\"\n",
              "              title=\"Convert this dataframe to an interactive table.\"\n",
              "              style=\"display:none;\">\n",
              "        \n",
              "  <svg xmlns=\"http://www.w3.org/2000/svg\" height=\"24px\"viewBox=\"0 0 24 24\"\n",
              "       width=\"24px\">\n",
              "    <path d=\"M0 0h24v24H0V0z\" fill=\"none\"/>\n",
              "    <path d=\"M18.56 5.44l.94 2.06.94-2.06 2.06-.94-2.06-.94-.94-2.06-.94 2.06-2.06.94zm-11 1L8.5 8.5l.94-2.06 2.06-.94-2.06-.94L8.5 2.5l-.94 2.06-2.06.94zm10 10l.94 2.06.94-2.06 2.06-.94-2.06-.94-.94-2.06-.94 2.06-2.06.94z\"/><path d=\"M17.41 7.96l-1.37-1.37c-.4-.4-.92-.59-1.43-.59-.52 0-1.04.2-1.43.59L10.3 9.45l-7.72 7.72c-.78.78-.78 2.05 0 2.83L4 21.41c.39.39.9.59 1.41.59.51 0 1.02-.2 1.41-.59l7.78-7.78 2.81-2.81c.8-.78.8-2.07 0-2.86zM5.41 20L4 18.59l7.72-7.72 1.47 1.35L5.41 20z\"/>\n",
              "  </svg>\n",
              "      </button>\n",
              "      \n",
              "  <style>\n",
              "    .colab-df-container {\n",
              "      display:flex;\n",
              "      flex-wrap:wrap;\n",
              "      gap: 12px;\n",
              "    }\n",
              "\n",
              "    .colab-df-convert {\n",
              "      background-color: #E8F0FE;\n",
              "      border: none;\n",
              "      border-radius: 50%;\n",
              "      cursor: pointer;\n",
              "      display: none;\n",
              "      fill: #1967D2;\n",
              "      height: 32px;\n",
              "      padding: 0 0 0 0;\n",
              "      width: 32px;\n",
              "    }\n",
              "\n",
              "    .colab-df-convert:hover {\n",
              "      background-color: #E2EBFA;\n",
              "      box-shadow: 0px 1px 2px rgba(60, 64, 67, 0.3), 0px 1px 3px 1px rgba(60, 64, 67, 0.15);\n",
              "      fill: #174EA6;\n",
              "    }\n",
              "\n",
              "    [theme=dark] .colab-df-convert {\n",
              "      background-color: #3B4455;\n",
              "      fill: #D2E3FC;\n",
              "    }\n",
              "\n",
              "    [theme=dark] .colab-df-convert:hover {\n",
              "      background-color: #434B5C;\n",
              "      box-shadow: 0px 1px 3px 1px rgba(0, 0, 0, 0.15);\n",
              "      filter: drop-shadow(0px 1px 2px rgba(0, 0, 0, 0.3));\n",
              "      fill: #FFFFFF;\n",
              "    }\n",
              "  </style>\n",
              "\n",
              "      <script>\n",
              "        const buttonEl =\n",
              "          document.querySelector('#df-381dda7e-1234-4523-906d-201adb937175 button.colab-df-convert');\n",
              "        buttonEl.style.display =\n",
              "          google.colab.kernel.accessAllowed ? 'block' : 'none';\n",
              "\n",
              "        async function convertToInteractive(key) {\n",
              "          const element = document.querySelector('#df-381dda7e-1234-4523-906d-201adb937175');\n",
              "          const dataTable =\n",
              "            await google.colab.kernel.invokeFunction('convertToInteractive',\n",
              "                                                     [key], {});\n",
              "          if (!dataTable) return;\n",
              "\n",
              "          const docLinkHtml = 'Like what you see? Visit the ' +\n",
              "            '<a target=\"_blank\" href=https://colab.research.google.com/notebooks/data_table.ipynb>data table notebook</a>'\n",
              "            + ' to learn more about interactive tables.';\n",
              "          element.innerHTML = '';\n",
              "          dataTable['output_type'] = 'display_data';\n",
              "          await google.colab.output.renderOutput(dataTable, element);\n",
              "          const docLink = document.createElement('div');\n",
              "          docLink.innerHTML = docLinkHtml;\n",
              "          element.appendChild(docLink);\n",
              "        }\n",
              "      </script>\n",
              "    </div>\n",
              "  </div>\n",
              "  "
            ]
          },
          "metadata": {},
          "execution_count": 126
        }
      ]
    },
    {
      "cell_type": "markdown",
      "source": [
        "Uma boa prática para saber como está o DataFrame, além da visualização dele como foi feita acima, podemos usar o comando .info(), que mostra como estão gravados os registros e em quais formatos eles se encontram.\n",
        "\n",
        "Note na tabela abaixo que a tabela \"Valor\" possui Dtype = object. Com esse formato não conseguimos realizar operações matemáticas."
      ],
      "metadata": {
        "id": "zPKsdbuJzIpW"
      }
    },
    {
      "cell_type": "code",
      "source": [
        "dados.info()"
      ],
      "metadata": {
        "id": "UXpuKR_zlD0q",
        "colab": {
          "base_uri": "https://localhost:8080/"
        },
        "outputId": "af504e0b-dc9c-4676-f00b-42523105e7fe"
      },
      "execution_count": null,
      "outputs": [
        {
          "output_type": "stream",
          "name": "stdout",
          "text": [
            "<class 'pandas.core.frame.DataFrame'>\n",
            "RangeIndex: 10008 entries, 0 to 10007\n",
            "Data columns (total 8 columns):\n",
            " #   Column     Non-Null Count  Dtype \n",
            "---  ------     --------------  ----- \n",
            " 0   Rua        6574 non-null   object\n",
            " 1   Bairro     9996 non-null   object\n",
            " 2   Cidade     10008 non-null  object\n",
            " 3   Metragem   10008 non-null  int64 \n",
            " 4   Quartos    10008 non-null  int64 \n",
            " 5   Banheiros  10008 non-null  int64 \n",
            " 6   Vagas      10008 non-null  int64 \n",
            " 7   Valor      10008 non-null  object\n",
            "dtypes: int64(4), object(4)\n",
            "memory usage: 625.6+ KB\n"
          ]
        }
      ]
    },
    {
      "cell_type": "code",
      "source": [
        "dados.Valor # Aqui é uma forma de exibir somente a coluna Valor e, quando exibimos uma única coluna chamamos ela de Serie. Duas ou mais colunas é um DataFrame."
      ],
      "metadata": {
        "id": "tw2yFiRvwpMt",
        "colab": {
          "base_uri": "https://localhost:8080/"
        },
        "outputId": "3add9560-1e5d-49d1-eac1-3a9d45eda454"
      },
      "execution_count": null,
      "outputs": [
        {
          "output_type": "execute_result",
          "data": {
            "text/plain": [
              "0                                R$ 7.000.000\n",
              "1                                R$ 3.700.000\n",
              "2                                  R$ 380.000\n",
              "3                                  R$ 685.000\n",
              "4                                  R$ 540.000\n",
              "                         ...                 \n",
              "10003                              R$ 665.000\n",
              "10004                            R$ 2.300.000\n",
              "10005                            R$ 1.050.000\n",
              "10006    R$ 2.200\\n                      /Mês\n",
              "10007                              R$ 270.000\n",
              "Name: Valor, Length: 10008, dtype: object"
            ]
          },
          "metadata": {},
          "execution_count": 128
        }
      ]
    },
    {
      "cell_type": "markdown",
      "source": [
        "A visualização padrão do DataFrame exibe as primeiras e as últimas linhas dos registros, note que o arquivo possui 10.008 registros (começa com o registro 0)"
      ],
      "metadata": {
        "id": "WgczAbRWz7VC"
      }
    },
    {
      "cell_type": "code",
      "source": [
        "dados.Valor[10006] # Aqui estou chamando somente o registro numero 10.006, pois, na consulta acima ele mostra que está registrado diferente:"
      ],
      "metadata": {
        "id": "qQIjEn3Sww_L",
        "colab": {
          "base_uri": "https://localhost:8080/",
          "height": 35
        },
        "outputId": "f37a5b30-217a-469e-eb49-a44bdbed28e5"
      },
      "execution_count": null,
      "outputs": [
        {
          "output_type": "execute_result",
          "data": {
            "text/plain": [
              "'R$ 2.200\\n                      /Mês'"
            ],
            "application/vnd.google.colaboratory.intrinsic+json": {
              "type": "string"
            }
          },
          "metadata": {},
          "execution_count": 129
        }
      ]
    },
    {
      "cell_type": "markdown",
      "source": [
        "# Tratamento e Limpeza dos Dados:"
      ],
      "metadata": {
        "id": "u1chrCELlJNy"
      }
    },
    {
      "cell_type": "markdown",
      "source": [
        "<hr>"
      ],
      "metadata": {
        "id": "WWmpva1plHqu"
      }
    },
    {
      "cell_type": "markdown",
      "source": [
        "Para execução dos cálculos aritméticos é mandatório transformar os registros em valores numéricos e, antes de fazer isso, temos que remover todas as interferências para essa conversão, no caso, temos que remover o R cifrão (tem um espaço depois do $), temos que remover os pontos de milhares (.) e por fim, tratar os registros que adicionaram informações à mais do que os números, no exemplo do registro 10.006, além do 2.200, foi registrado \"\\n            /Mês\"."
      ],
      "metadata": {
        "id": "zHNyIy5pxHQ1"
      }
    },
    {
      "cell_type": "code",
      "source": [
        "dados[\"Valor\"] = dados[\"Valor\"].str.replace(\"R$ \",\"\", regex=False) # Aqui removemos o R$ e o espaço a frente dele"
      ],
      "metadata": {
        "id": "nHrf1_YP1uKG"
      },
      "execution_count": null,
      "outputs": []
    },
    {
      "cell_type": "code",
      "source": [
        "dados.Valor = dados.Valor.str.replace(\".\", \"\", regex=False) # Aqui removemos os pontos de milhares (.)"
      ],
      "metadata": {
        "id": "NrbxWA1glday"
      },
      "execution_count": null,
      "outputs": []
    },
    {
      "cell_type": "code",
      "source": [
        "dados.Valor.sample(30) # Aqui fazemos uma amostragem de 30 elementos para ver a formatação"
      ],
      "metadata": {
        "id": "JE_UpF6MvQSi",
        "colab": {
          "base_uri": "https://localhost:8080/"
        },
        "outputId": "9abd7729-6e92-48e1-9a28-76c09aa1cb3f"
      },
      "execution_count": null,
      "outputs": [
        {
          "output_type": "execute_result",
          "data": {
            "text/plain": [
              "3977                              3500000\n",
              "2709                             14000000\n",
              "2788                               421000\n",
              "1779                               795000\n",
              "4586     6900\\n                      /Mês\n",
              "1368                              2000000\n",
              "2601                              2500000\n",
              "1831                              1321000\n",
              "3773                              2700000\n",
              "4950                              2250000\n",
              "930                              15000000\n",
              "828                                450000\n",
              "3983    25000\\n                      /Mês\n",
              "283      6000\\n                      /Mês\n",
              "7989                               690000\n",
              "7521                              2700000\n",
              "9381                              1200000\n",
              "6876                              8500000\n",
              "9435                              3600000\n",
              "4308                              4000000\n",
              "5304                               720000\n",
              "6797                              1990000\n",
              "9194     9500\\n                      /Mês\n",
              "6072     6000\\n                      /Mês\n",
              "6648                              1650000\n",
              "4370                              1500000\n",
              "8415                               165000\n",
              "1986                              2600000\n",
              "5788                              1099950\n",
              "7440                              2200000\n",
              "Name: Valor, dtype: object"
            ]
          },
          "metadata": {},
          "execution_count": 132
        }
      ]
    },
    {
      "cell_type": "code",
      "source": [
        "dados.Valor = dados.Valor.str.replace(\"\\n                      /Mês\",\"\", regex=False) # aqui removemos a string (texto) \"\\n                      /Mês\""
      ],
      "metadata": {
        "id": "8IPLrTDR32jG"
      },
      "execution_count": null,
      "outputs": []
    },
    {
      "cell_type": "code",
      "source": [
        "dados.Valor = dados.Valor.str.replace(\"\\n                      /Ano\",\"\", regex=False) # aqui removemos a string (texto) \"\\n                      /Ano\""
      ],
      "metadata": {
        "id": "8NLGBDfl22b1"
      },
      "execution_count": null,
      "outputs": []
    },
    {
      "cell_type": "code",
      "source": [
        "dados.Valor = dados.Valor.str.replace(\"\\n                      /Dia\",\"\", regex=False) # aqui removemos a string (texto) \"\\n                      /Dia\""
      ],
      "metadata": {
        "id": "u_3XBQxn4MhA"
      },
      "execution_count": null,
      "outputs": []
    },
    {
      "cell_type": "code",
      "source": [
        "dados.Valor = dados.Valor.astype(float) # Finalmente convertemos a coluna Valor de object para o formato Float (número decimal)"
      ],
      "metadata": {
        "id": "qMRZCuFRuOnr"
      },
      "execution_count": null,
      "outputs": []
    },
    {
      "cell_type": "code",
      "source": [
        "dados.info() # Após a conversão checamos o DataFrame com o comando .info() e verificamos que a coluna \"Valor\" agora é do tipo Float64"
      ],
      "metadata": {
        "id": "UpiRtnUfuaRY",
        "colab": {
          "base_uri": "https://localhost:8080/"
        },
        "outputId": "244e8453-fd12-4504-c9d3-e019aece2bfa"
      },
      "execution_count": null,
      "outputs": [
        {
          "output_type": "stream",
          "name": "stdout",
          "text": [
            "<class 'pandas.core.frame.DataFrame'>\n",
            "RangeIndex: 10008 entries, 0 to 10007\n",
            "Data columns (total 8 columns):\n",
            " #   Column     Non-Null Count  Dtype  \n",
            "---  ------     --------------  -----  \n",
            " 0   Rua        6574 non-null   object \n",
            " 1   Bairro     9996 non-null   object \n",
            " 2   Cidade     10008 non-null  object \n",
            " 3   Metragem   10008 non-null  int64  \n",
            " 4   Quartos    10008 non-null  int64  \n",
            " 5   Banheiros  10008 non-null  int64  \n",
            " 6   Vagas      10008 non-null  int64  \n",
            " 7   Valor      10008 non-null  float64\n",
            "dtypes: float64(1), int64(4), object(3)\n",
            "memory usage: 625.6+ KB\n"
          ]
        }
      ]
    },
    {
      "cell_type": "code",
      "source": [
        "dados.Valor.min() # Aqui checamos o menor valor"
      ],
      "metadata": {
        "id": "Z4URAP2EuX9P",
        "colab": {
          "base_uri": "https://localhost:8080/"
        },
        "outputId": "2de81442-8582-417d-a7b3-67dbcf0c15e3"
      },
      "execution_count": null,
      "outputs": [
        {
          "output_type": "execute_result",
          "data": {
            "text/plain": [
              "1650.0"
            ]
          },
          "metadata": {},
          "execution_count": 138
        }
      ]
    },
    {
      "cell_type": "code",
      "source": [
        "dados.Valor.max() # AQui checamos o maior valor"
      ],
      "metadata": {
        "id": "xEXpNC9eu3IO",
        "colab": {
          "base_uri": "https://localhost:8080/"
        },
        "outputId": "a4f76d97-2550-4a59-8b88-65b850b92b73"
      },
      "execution_count": null,
      "outputs": [
        {
          "output_type": "execute_result",
          "data": {
            "text/plain": [
              "65000000.0"
            ]
          },
          "metadata": {},
          "execution_count": 139
        }
      ]
    },
    {
      "cell_type": "code",
      "source": [
        "dados.Valor.mean() # E finalmente realizamos a média dos valores da coluna \"Valor\""
      ],
      "metadata": {
        "id": "hAPf9CdAulKq",
        "colab": {
          "base_uri": "https://localhost:8080/"
        },
        "outputId": "d5a2fead-4676-4ed4-c403-97a4359afd12"
      },
      "execution_count": null,
      "outputs": [
        {
          "output_type": "execute_result",
          "data": {
            "text/plain": [
              "2794169.56205036"
            ]
          },
          "metadata": {},
          "execution_count": 140
        }
      ]
    },
    {
      "cell_type": "code",
      "source": [
        "dados[\"Bairro\"] = dados[\"Bairro\"].apply(lambda x:str(x).replace(\"Vila Água Funda\", \"Água Funda\")) # renomeando o bairro 'Vila Água Funda' para 'Água Funda'"
      ],
      "metadata": {
        "id": "dO7jXsgYwYGZ"
      },
      "execution_count": null,
      "outputs": []
    },
    {
      "cell_type": "code",
      "source": [
        "bairros_vazios = dados.Bairro == 'nan'\n",
        "\n",
        "dados[bairros_vazios]"
      ],
      "metadata": {
        "id": "vUCYdpmAy5md",
        "colab": {
          "base_uri": "https://localhost:8080/",
          "height": 426
        },
        "outputId": "50ec9f12-bc06-4af2-e143-7a462c42f1f0"
      },
      "execution_count": null,
      "outputs": [
        {
          "output_type": "execute_result",
          "data": {
            "text/plain": [
              "                                              Rua Bairro     Cidade  Metragem  \\\n",
              "7263                 Rua Madalena de Morais, 3773    nan  São Paulo       742   \n",
              "7956                                Rua Vergueiro    nan  São Paulo       103   \n",
              "7996                    Rua Alvorada do Sul, 3773    nan  São Paulo       678   \n",
              "8126         Rua Professor Eduardo Monteiro, 3773    nan  São Paulo       550   \n",
              "8566          Avenida Comendador Adibo Ares, 3773    nan  São Paulo       694   \n",
              "8619                    Rua Alvorada do Sul, 3773    nan  São Paulo       683   \n",
              "8739                    Rua Alvorada do Sul, 3773    nan  São Paulo       683   \n",
              "8868         Rua Professor Eduardo Monteiro, 3773    nan  São Paulo       555   \n",
              "8943                      Rua Santo Eufredo, 3773    nan  São Paulo       846   \n",
              "8992         Rua Professor Eduardo Monteiro, 3773    nan  São Paulo       555   \n",
              "9310  Rua Professor Lúcio Martins Rodrigues, 3773    nan  São Paulo       358   \n",
              "9540                             Rua Pacobá, 3773    nan  São Paulo      1009   \n",
              "\n",
              "      Quartos  Banheiros  Vagas      Valor  \n",
              "7263        4          8      6     9800.0  \n",
              "7956        3          2      2   640000.0  \n",
              "7996        4          8      8  6895000.0  \n",
              "8126        3          5      6  4000000.0  \n",
              "8566        4          6      6  3890000.0  \n",
              "8619        4          8      8  6895000.0  \n",
              "8739        4          8      8  6895000.0  \n",
              "8868        3          5      6  4000000.0  \n",
              "8943        4          8      8    30000.0  \n",
              "8992        3          5      6  4000000.0  \n",
              "9310        4          6      7  1600000.0  \n",
              "9540        5          6     10  6400000.0  "
            ],
            "text/html": [
              "\n",
              "  <div id=\"df-b23fcc6e-a3e7-4721-a51e-e9eff431809d\">\n",
              "    <div class=\"colab-df-container\">\n",
              "      <div>\n",
              "<style scoped>\n",
              "    .dataframe tbody tr th:only-of-type {\n",
              "        vertical-align: middle;\n",
              "    }\n",
              "\n",
              "    .dataframe tbody tr th {\n",
              "        vertical-align: top;\n",
              "    }\n",
              "\n",
              "    .dataframe thead th {\n",
              "        text-align: right;\n",
              "    }\n",
              "</style>\n",
              "<table border=\"1\" class=\"dataframe\">\n",
              "  <thead>\n",
              "    <tr style=\"text-align: right;\">\n",
              "      <th></th>\n",
              "      <th>Rua</th>\n",
              "      <th>Bairro</th>\n",
              "      <th>Cidade</th>\n",
              "      <th>Metragem</th>\n",
              "      <th>Quartos</th>\n",
              "      <th>Banheiros</th>\n",
              "      <th>Vagas</th>\n",
              "      <th>Valor</th>\n",
              "    </tr>\n",
              "  </thead>\n",
              "  <tbody>\n",
              "    <tr>\n",
              "      <th>7263</th>\n",
              "      <td>Rua Madalena de Morais, 3773</td>\n",
              "      <td>nan</td>\n",
              "      <td>São Paulo</td>\n",
              "      <td>742</td>\n",
              "      <td>4</td>\n",
              "      <td>8</td>\n",
              "      <td>6</td>\n",
              "      <td>9800.0</td>\n",
              "    </tr>\n",
              "    <tr>\n",
              "      <th>7956</th>\n",
              "      <td>Rua Vergueiro</td>\n",
              "      <td>nan</td>\n",
              "      <td>São Paulo</td>\n",
              "      <td>103</td>\n",
              "      <td>3</td>\n",
              "      <td>2</td>\n",
              "      <td>2</td>\n",
              "      <td>640000.0</td>\n",
              "    </tr>\n",
              "    <tr>\n",
              "      <th>7996</th>\n",
              "      <td>Rua Alvorada do Sul, 3773</td>\n",
              "      <td>nan</td>\n",
              "      <td>São Paulo</td>\n",
              "      <td>678</td>\n",
              "      <td>4</td>\n",
              "      <td>8</td>\n",
              "      <td>8</td>\n",
              "      <td>6895000.0</td>\n",
              "    </tr>\n",
              "    <tr>\n",
              "      <th>8126</th>\n",
              "      <td>Rua Professor Eduardo Monteiro, 3773</td>\n",
              "      <td>nan</td>\n",
              "      <td>São Paulo</td>\n",
              "      <td>550</td>\n",
              "      <td>3</td>\n",
              "      <td>5</td>\n",
              "      <td>6</td>\n",
              "      <td>4000000.0</td>\n",
              "    </tr>\n",
              "    <tr>\n",
              "      <th>8566</th>\n",
              "      <td>Avenida Comendador Adibo Ares, 3773</td>\n",
              "      <td>nan</td>\n",
              "      <td>São Paulo</td>\n",
              "      <td>694</td>\n",
              "      <td>4</td>\n",
              "      <td>6</td>\n",
              "      <td>6</td>\n",
              "      <td>3890000.0</td>\n",
              "    </tr>\n",
              "    <tr>\n",
              "      <th>8619</th>\n",
              "      <td>Rua Alvorada do Sul, 3773</td>\n",
              "      <td>nan</td>\n",
              "      <td>São Paulo</td>\n",
              "      <td>683</td>\n",
              "      <td>4</td>\n",
              "      <td>8</td>\n",
              "      <td>8</td>\n",
              "      <td>6895000.0</td>\n",
              "    </tr>\n",
              "    <tr>\n",
              "      <th>8739</th>\n",
              "      <td>Rua Alvorada do Sul, 3773</td>\n",
              "      <td>nan</td>\n",
              "      <td>São Paulo</td>\n",
              "      <td>683</td>\n",
              "      <td>4</td>\n",
              "      <td>8</td>\n",
              "      <td>8</td>\n",
              "      <td>6895000.0</td>\n",
              "    </tr>\n",
              "    <tr>\n",
              "      <th>8868</th>\n",
              "      <td>Rua Professor Eduardo Monteiro, 3773</td>\n",
              "      <td>nan</td>\n",
              "      <td>São Paulo</td>\n",
              "      <td>555</td>\n",
              "      <td>3</td>\n",
              "      <td>5</td>\n",
              "      <td>6</td>\n",
              "      <td>4000000.0</td>\n",
              "    </tr>\n",
              "    <tr>\n",
              "      <th>8943</th>\n",
              "      <td>Rua Santo Eufredo, 3773</td>\n",
              "      <td>nan</td>\n",
              "      <td>São Paulo</td>\n",
              "      <td>846</td>\n",
              "      <td>4</td>\n",
              "      <td>8</td>\n",
              "      <td>8</td>\n",
              "      <td>30000.0</td>\n",
              "    </tr>\n",
              "    <tr>\n",
              "      <th>8992</th>\n",
              "      <td>Rua Professor Eduardo Monteiro, 3773</td>\n",
              "      <td>nan</td>\n",
              "      <td>São Paulo</td>\n",
              "      <td>555</td>\n",
              "      <td>3</td>\n",
              "      <td>5</td>\n",
              "      <td>6</td>\n",
              "      <td>4000000.0</td>\n",
              "    </tr>\n",
              "    <tr>\n",
              "      <th>9310</th>\n",
              "      <td>Rua Professor Lúcio Martins Rodrigues, 3773</td>\n",
              "      <td>nan</td>\n",
              "      <td>São Paulo</td>\n",
              "      <td>358</td>\n",
              "      <td>4</td>\n",
              "      <td>6</td>\n",
              "      <td>7</td>\n",
              "      <td>1600000.0</td>\n",
              "    </tr>\n",
              "    <tr>\n",
              "      <th>9540</th>\n",
              "      <td>Rua Pacobá, 3773</td>\n",
              "      <td>nan</td>\n",
              "      <td>São Paulo</td>\n",
              "      <td>1009</td>\n",
              "      <td>5</td>\n",
              "      <td>6</td>\n",
              "      <td>10</td>\n",
              "      <td>6400000.0</td>\n",
              "    </tr>\n",
              "  </tbody>\n",
              "</table>\n",
              "</div>\n",
              "      <button class=\"colab-df-convert\" onclick=\"convertToInteractive('df-b23fcc6e-a3e7-4721-a51e-e9eff431809d')\"\n",
              "              title=\"Convert this dataframe to an interactive table.\"\n",
              "              style=\"display:none;\">\n",
              "        \n",
              "  <svg xmlns=\"http://www.w3.org/2000/svg\" height=\"24px\"viewBox=\"0 0 24 24\"\n",
              "       width=\"24px\">\n",
              "    <path d=\"M0 0h24v24H0V0z\" fill=\"none\"/>\n",
              "    <path d=\"M18.56 5.44l.94 2.06.94-2.06 2.06-.94-2.06-.94-.94-2.06-.94 2.06-2.06.94zm-11 1L8.5 8.5l.94-2.06 2.06-.94-2.06-.94L8.5 2.5l-.94 2.06-2.06.94zm10 10l.94 2.06.94-2.06 2.06-.94-2.06-.94-.94-2.06-.94 2.06-2.06.94z\"/><path d=\"M17.41 7.96l-1.37-1.37c-.4-.4-.92-.59-1.43-.59-.52 0-1.04.2-1.43.59L10.3 9.45l-7.72 7.72c-.78.78-.78 2.05 0 2.83L4 21.41c.39.39.9.59 1.41.59.51 0 1.02-.2 1.41-.59l7.78-7.78 2.81-2.81c.8-.78.8-2.07 0-2.86zM5.41 20L4 18.59l7.72-7.72 1.47 1.35L5.41 20z\"/>\n",
              "  </svg>\n",
              "      </button>\n",
              "      \n",
              "  <style>\n",
              "    .colab-df-container {\n",
              "      display:flex;\n",
              "      flex-wrap:wrap;\n",
              "      gap: 12px;\n",
              "    }\n",
              "\n",
              "    .colab-df-convert {\n",
              "      background-color: #E8F0FE;\n",
              "      border: none;\n",
              "      border-radius: 50%;\n",
              "      cursor: pointer;\n",
              "      display: none;\n",
              "      fill: #1967D2;\n",
              "      height: 32px;\n",
              "      padding: 0 0 0 0;\n",
              "      width: 32px;\n",
              "    }\n",
              "\n",
              "    .colab-df-convert:hover {\n",
              "      background-color: #E2EBFA;\n",
              "      box-shadow: 0px 1px 2px rgba(60, 64, 67, 0.3), 0px 1px 3px 1px rgba(60, 64, 67, 0.15);\n",
              "      fill: #174EA6;\n",
              "    }\n",
              "\n",
              "    [theme=dark] .colab-df-convert {\n",
              "      background-color: #3B4455;\n",
              "      fill: #D2E3FC;\n",
              "    }\n",
              "\n",
              "    [theme=dark] .colab-df-convert:hover {\n",
              "      background-color: #434B5C;\n",
              "      box-shadow: 0px 1px 3px 1px rgba(0, 0, 0, 0.15);\n",
              "      filter: drop-shadow(0px 1px 2px rgba(0, 0, 0, 0.3));\n",
              "      fill: #FFFFFF;\n",
              "    }\n",
              "  </style>\n",
              "\n",
              "      <script>\n",
              "        const buttonEl =\n",
              "          document.querySelector('#df-b23fcc6e-a3e7-4721-a51e-e9eff431809d button.colab-df-convert');\n",
              "        buttonEl.style.display =\n",
              "          google.colab.kernel.accessAllowed ? 'block' : 'none';\n",
              "\n",
              "        async function convertToInteractive(key) {\n",
              "          const element = document.querySelector('#df-b23fcc6e-a3e7-4721-a51e-e9eff431809d');\n",
              "          const dataTable =\n",
              "            await google.colab.kernel.invokeFunction('convertToInteractive',\n",
              "                                                     [key], {});\n",
              "          if (!dataTable) return;\n",
              "\n",
              "          const docLinkHtml = 'Like what you see? Visit the ' +\n",
              "            '<a target=\"_blank\" href=https://colab.research.google.com/notebooks/data_table.ipynb>data table notebook</a>'\n",
              "            + ' to learn more about interactive tables.';\n",
              "          element.innerHTML = '';\n",
              "          dataTable['output_type'] = 'display_data';\n",
              "          await google.colab.output.renderOutput(dataTable, element);\n",
              "          const docLink = document.createElement('div');\n",
              "          docLink.innerHTML = docLinkHtml;\n",
              "          element.appendChild(docLink);\n",
              "        }\n",
              "      </script>\n",
              "    </div>\n",
              "  </div>\n",
              "  "
            ]
          },
          "metadata": {},
          "execution_count": 142
        }
      ]
    },
    {
      "cell_type": "code",
      "source": [
        "dados[dados['Bairro']=='nan']"
      ],
      "metadata": {
        "id": "yiQ-yqfn3IXa",
        "colab": {
          "base_uri": "https://localhost:8080/",
          "height": 426
        },
        "outputId": "423d02db-52ab-4139-f08c-2c3b68360e44"
      },
      "execution_count": null,
      "outputs": [
        {
          "output_type": "execute_result",
          "data": {
            "text/plain": [
              "                                              Rua Bairro     Cidade  Metragem  \\\n",
              "7263                 Rua Madalena de Morais, 3773    nan  São Paulo       742   \n",
              "7956                                Rua Vergueiro    nan  São Paulo       103   \n",
              "7996                    Rua Alvorada do Sul, 3773    nan  São Paulo       678   \n",
              "8126         Rua Professor Eduardo Monteiro, 3773    nan  São Paulo       550   \n",
              "8566          Avenida Comendador Adibo Ares, 3773    nan  São Paulo       694   \n",
              "8619                    Rua Alvorada do Sul, 3773    nan  São Paulo       683   \n",
              "8739                    Rua Alvorada do Sul, 3773    nan  São Paulo       683   \n",
              "8868         Rua Professor Eduardo Monteiro, 3773    nan  São Paulo       555   \n",
              "8943                      Rua Santo Eufredo, 3773    nan  São Paulo       846   \n",
              "8992         Rua Professor Eduardo Monteiro, 3773    nan  São Paulo       555   \n",
              "9310  Rua Professor Lúcio Martins Rodrigues, 3773    nan  São Paulo       358   \n",
              "9540                             Rua Pacobá, 3773    nan  São Paulo      1009   \n",
              "\n",
              "      Quartos  Banheiros  Vagas      Valor  \n",
              "7263        4          8      6     9800.0  \n",
              "7956        3          2      2   640000.0  \n",
              "7996        4          8      8  6895000.0  \n",
              "8126        3          5      6  4000000.0  \n",
              "8566        4          6      6  3890000.0  \n",
              "8619        4          8      8  6895000.0  \n",
              "8739        4          8      8  6895000.0  \n",
              "8868        3          5      6  4000000.0  \n",
              "8943        4          8      8    30000.0  \n",
              "8992        3          5      6  4000000.0  \n",
              "9310        4          6      7  1600000.0  \n",
              "9540        5          6     10  6400000.0  "
            ],
            "text/html": [
              "\n",
              "  <div id=\"df-ac8abb40-2954-4140-ae39-2ad3a8906a22\">\n",
              "    <div class=\"colab-df-container\">\n",
              "      <div>\n",
              "<style scoped>\n",
              "    .dataframe tbody tr th:only-of-type {\n",
              "        vertical-align: middle;\n",
              "    }\n",
              "\n",
              "    .dataframe tbody tr th {\n",
              "        vertical-align: top;\n",
              "    }\n",
              "\n",
              "    .dataframe thead th {\n",
              "        text-align: right;\n",
              "    }\n",
              "</style>\n",
              "<table border=\"1\" class=\"dataframe\">\n",
              "  <thead>\n",
              "    <tr style=\"text-align: right;\">\n",
              "      <th></th>\n",
              "      <th>Rua</th>\n",
              "      <th>Bairro</th>\n",
              "      <th>Cidade</th>\n",
              "      <th>Metragem</th>\n",
              "      <th>Quartos</th>\n",
              "      <th>Banheiros</th>\n",
              "      <th>Vagas</th>\n",
              "      <th>Valor</th>\n",
              "    </tr>\n",
              "  </thead>\n",
              "  <tbody>\n",
              "    <tr>\n",
              "      <th>7263</th>\n",
              "      <td>Rua Madalena de Morais, 3773</td>\n",
              "      <td>nan</td>\n",
              "      <td>São Paulo</td>\n",
              "      <td>742</td>\n",
              "      <td>4</td>\n",
              "      <td>8</td>\n",
              "      <td>6</td>\n",
              "      <td>9800.0</td>\n",
              "    </tr>\n",
              "    <tr>\n",
              "      <th>7956</th>\n",
              "      <td>Rua Vergueiro</td>\n",
              "      <td>nan</td>\n",
              "      <td>São Paulo</td>\n",
              "      <td>103</td>\n",
              "      <td>3</td>\n",
              "      <td>2</td>\n",
              "      <td>2</td>\n",
              "      <td>640000.0</td>\n",
              "    </tr>\n",
              "    <tr>\n",
              "      <th>7996</th>\n",
              "      <td>Rua Alvorada do Sul, 3773</td>\n",
              "      <td>nan</td>\n",
              "      <td>São Paulo</td>\n",
              "      <td>678</td>\n",
              "      <td>4</td>\n",
              "      <td>8</td>\n",
              "      <td>8</td>\n",
              "      <td>6895000.0</td>\n",
              "    </tr>\n",
              "    <tr>\n",
              "      <th>8126</th>\n",
              "      <td>Rua Professor Eduardo Monteiro, 3773</td>\n",
              "      <td>nan</td>\n",
              "      <td>São Paulo</td>\n",
              "      <td>550</td>\n",
              "      <td>3</td>\n",
              "      <td>5</td>\n",
              "      <td>6</td>\n",
              "      <td>4000000.0</td>\n",
              "    </tr>\n",
              "    <tr>\n",
              "      <th>8566</th>\n",
              "      <td>Avenida Comendador Adibo Ares, 3773</td>\n",
              "      <td>nan</td>\n",
              "      <td>São Paulo</td>\n",
              "      <td>694</td>\n",
              "      <td>4</td>\n",
              "      <td>6</td>\n",
              "      <td>6</td>\n",
              "      <td>3890000.0</td>\n",
              "    </tr>\n",
              "    <tr>\n",
              "      <th>8619</th>\n",
              "      <td>Rua Alvorada do Sul, 3773</td>\n",
              "      <td>nan</td>\n",
              "      <td>São Paulo</td>\n",
              "      <td>683</td>\n",
              "      <td>4</td>\n",
              "      <td>8</td>\n",
              "      <td>8</td>\n",
              "      <td>6895000.0</td>\n",
              "    </tr>\n",
              "    <tr>\n",
              "      <th>8739</th>\n",
              "      <td>Rua Alvorada do Sul, 3773</td>\n",
              "      <td>nan</td>\n",
              "      <td>São Paulo</td>\n",
              "      <td>683</td>\n",
              "      <td>4</td>\n",
              "      <td>8</td>\n",
              "      <td>8</td>\n",
              "      <td>6895000.0</td>\n",
              "    </tr>\n",
              "    <tr>\n",
              "      <th>8868</th>\n",
              "      <td>Rua Professor Eduardo Monteiro, 3773</td>\n",
              "      <td>nan</td>\n",
              "      <td>São Paulo</td>\n",
              "      <td>555</td>\n",
              "      <td>3</td>\n",
              "      <td>5</td>\n",
              "      <td>6</td>\n",
              "      <td>4000000.0</td>\n",
              "    </tr>\n",
              "    <tr>\n",
              "      <th>8943</th>\n",
              "      <td>Rua Santo Eufredo, 3773</td>\n",
              "      <td>nan</td>\n",
              "      <td>São Paulo</td>\n",
              "      <td>846</td>\n",
              "      <td>4</td>\n",
              "      <td>8</td>\n",
              "      <td>8</td>\n",
              "      <td>30000.0</td>\n",
              "    </tr>\n",
              "    <tr>\n",
              "      <th>8992</th>\n",
              "      <td>Rua Professor Eduardo Monteiro, 3773</td>\n",
              "      <td>nan</td>\n",
              "      <td>São Paulo</td>\n",
              "      <td>555</td>\n",
              "      <td>3</td>\n",
              "      <td>5</td>\n",
              "      <td>6</td>\n",
              "      <td>4000000.0</td>\n",
              "    </tr>\n",
              "    <tr>\n",
              "      <th>9310</th>\n",
              "      <td>Rua Professor Lúcio Martins Rodrigues, 3773</td>\n",
              "      <td>nan</td>\n",
              "      <td>São Paulo</td>\n",
              "      <td>358</td>\n",
              "      <td>4</td>\n",
              "      <td>6</td>\n",
              "      <td>7</td>\n",
              "      <td>1600000.0</td>\n",
              "    </tr>\n",
              "    <tr>\n",
              "      <th>9540</th>\n",
              "      <td>Rua Pacobá, 3773</td>\n",
              "      <td>nan</td>\n",
              "      <td>São Paulo</td>\n",
              "      <td>1009</td>\n",
              "      <td>5</td>\n",
              "      <td>6</td>\n",
              "      <td>10</td>\n",
              "      <td>6400000.0</td>\n",
              "    </tr>\n",
              "  </tbody>\n",
              "</table>\n",
              "</div>\n",
              "      <button class=\"colab-df-convert\" onclick=\"convertToInteractive('df-ac8abb40-2954-4140-ae39-2ad3a8906a22')\"\n",
              "              title=\"Convert this dataframe to an interactive table.\"\n",
              "              style=\"display:none;\">\n",
              "        \n",
              "  <svg xmlns=\"http://www.w3.org/2000/svg\" height=\"24px\"viewBox=\"0 0 24 24\"\n",
              "       width=\"24px\">\n",
              "    <path d=\"M0 0h24v24H0V0z\" fill=\"none\"/>\n",
              "    <path d=\"M18.56 5.44l.94 2.06.94-2.06 2.06-.94-2.06-.94-.94-2.06-.94 2.06-2.06.94zm-11 1L8.5 8.5l.94-2.06 2.06-.94-2.06-.94L8.5 2.5l-.94 2.06-2.06.94zm10 10l.94 2.06.94-2.06 2.06-.94-2.06-.94-.94-2.06-.94 2.06-2.06.94z\"/><path d=\"M17.41 7.96l-1.37-1.37c-.4-.4-.92-.59-1.43-.59-.52 0-1.04.2-1.43.59L10.3 9.45l-7.72 7.72c-.78.78-.78 2.05 0 2.83L4 21.41c.39.39.9.59 1.41.59.51 0 1.02-.2 1.41-.59l7.78-7.78 2.81-2.81c.8-.78.8-2.07 0-2.86zM5.41 20L4 18.59l7.72-7.72 1.47 1.35L5.41 20z\"/>\n",
              "  </svg>\n",
              "      </button>\n",
              "      \n",
              "  <style>\n",
              "    .colab-df-container {\n",
              "      display:flex;\n",
              "      flex-wrap:wrap;\n",
              "      gap: 12px;\n",
              "    }\n",
              "\n",
              "    .colab-df-convert {\n",
              "      background-color: #E8F0FE;\n",
              "      border: none;\n",
              "      border-radius: 50%;\n",
              "      cursor: pointer;\n",
              "      display: none;\n",
              "      fill: #1967D2;\n",
              "      height: 32px;\n",
              "      padding: 0 0 0 0;\n",
              "      width: 32px;\n",
              "    }\n",
              "\n",
              "    .colab-df-convert:hover {\n",
              "      background-color: #E2EBFA;\n",
              "      box-shadow: 0px 1px 2px rgba(60, 64, 67, 0.3), 0px 1px 3px 1px rgba(60, 64, 67, 0.15);\n",
              "      fill: #174EA6;\n",
              "    }\n",
              "\n",
              "    [theme=dark] .colab-df-convert {\n",
              "      background-color: #3B4455;\n",
              "      fill: #D2E3FC;\n",
              "    }\n",
              "\n",
              "    [theme=dark] .colab-df-convert:hover {\n",
              "      background-color: #434B5C;\n",
              "      box-shadow: 0px 1px 3px 1px rgba(0, 0, 0, 0.15);\n",
              "      filter: drop-shadow(0px 1px 2px rgba(0, 0, 0, 0.3));\n",
              "      fill: #FFFFFF;\n",
              "    }\n",
              "  </style>\n",
              "\n",
              "      <script>\n",
              "        const buttonEl =\n",
              "          document.querySelector('#df-ac8abb40-2954-4140-ae39-2ad3a8906a22 button.colab-df-convert');\n",
              "        buttonEl.style.display =\n",
              "          google.colab.kernel.accessAllowed ? 'block' : 'none';\n",
              "\n",
              "        async function convertToInteractive(key) {\n",
              "          const element = document.querySelector('#df-ac8abb40-2954-4140-ae39-2ad3a8906a22');\n",
              "          const dataTable =\n",
              "            await google.colab.kernel.invokeFunction('convertToInteractive',\n",
              "                                                     [key], {});\n",
              "          if (!dataTable) return;\n",
              "\n",
              "          const docLinkHtml = 'Like what you see? Visit the ' +\n",
              "            '<a target=\"_blank\" href=https://colab.research.google.com/notebooks/data_table.ipynb>data table notebook</a>'\n",
              "            + ' to learn more about interactive tables.';\n",
              "          element.innerHTML = '';\n",
              "          dataTable['output_type'] = 'display_data';\n",
              "          await google.colab.output.renderOutput(dataTable, element);\n",
              "          const docLink = document.createElement('div');\n",
              "          docLink.innerHTML = docLinkHtml;\n",
              "          element.appendChild(docLink);\n",
              "        }\n",
              "      </script>\n",
              "    </div>\n",
              "  </div>\n",
              "  "
            ]
          },
          "metadata": {},
          "execution_count": 143
        }
      ]
    },
    {
      "cell_type": "markdown",
      "source": [
        "<hr>"
      ],
      "metadata": {
        "id": "PqEvIYNDkjcE"
      }
    },
    {
      "cell_type": "markdown",
      "source": [
        "#Desafios:\n",
        "\n",
        "1 - Realizar a média da metragem para cada um dos bairros (Paulo)\n",
        "\n",
        "2 - 2 formas de selecionar os dados por bairro (consultar os métodos na documentação do pandas) (Thiago)\n",
        "\n",
        "3 - Explorar alguns gráficos na documentação e aplicar nas demais colunas do DF, tentar colocar alguma conclusão (Thiago)\n",
        "\n",
        "4 - Pegar outros estatísticas dos dados, média, mediana, mim, max (Vivi)\n",
        "\n",
        "5 - Descobrir quais são os bairros que não tem nome de Rua. (Vivi)"
      ],
      "metadata": {
        "id": "h70cHHLx99tR"
      }
    },
    {
      "cell_type": "markdown",
      "source": [
        "<hr>"
      ],
      "metadata": {
        "id": "bjhxtqmXknWu"
      }
    },
    {
      "cell_type": "markdown",
      "source": [
        "DESAFIO # 1:\n",
        "\n",
        "Realizar a média da metragem para cada um dos bairros (Paulo)"
      ],
      "metadata": {
        "id": "CHogLocWA5Sw"
      }
    },
    {
      "cell_type": "code",
      "source": [
        "dados.Metragem.mean() # Média geral"
      ],
      "metadata": {
        "id": "v6Vwz2zY9-XJ",
        "colab": {
          "base_uri": "https://localhost:8080/"
        },
        "outputId": "880057fc-42d2-4001-9987-8f94cc56b248"
      },
      "execution_count": null,
      "outputs": [
        {
          "output_type": "execute_result",
          "data": {
            "text/plain": [
              "442.30065947242207"
            ]
          },
          "metadata": {},
          "execution_count": 144
        }
      ]
    },
    {
      "cell_type": "code",
      "source": [
        "dados.groupby('Bairro').mean()['Metragem'].to_frame().reset_index() # Média das Metragens agrupadas por Bairro "
      ],
      "metadata": {
        "id": "kP45HovT-4CN",
        "colab": {
          "base_uri": "https://localhost:8080/",
          "height": 424
        },
        "outputId": "f3db9e6a-6d2c-4144-f1c4-ed522079d848"
      },
      "execution_count": null,
      "outputs": [
        {
          "output_type": "execute_result",
          "data": {
            "text/plain": [
              "                Bairro    Metragem\n",
              "0            Aclimação  253.056818\n",
              "1    Alto da Boa Vista  418.875000\n",
              "2         Alto da Lapa  294.337209\n",
              "3        Alto da Mooca  270.050000\n",
              "4    Alto de Pinheiros  433.444988\n",
              "..                 ...         ...\n",
              "696                nan  621.333333\n",
              "697        Água Branca  191.000000\n",
              "698          Água Fria  165.416667\n",
              "699         Água Funda  148.428571\n",
              "700          Água Rasa  340.250000\n",
              "\n",
              "[701 rows x 2 columns]"
            ],
            "text/html": [
              "\n",
              "  <div id=\"df-af30b0c0-953f-48e6-abb7-ea3014ed654f\">\n",
              "    <div class=\"colab-df-container\">\n",
              "      <div>\n",
              "<style scoped>\n",
              "    .dataframe tbody tr th:only-of-type {\n",
              "        vertical-align: middle;\n",
              "    }\n",
              "\n",
              "    .dataframe tbody tr th {\n",
              "        vertical-align: top;\n",
              "    }\n",
              "\n",
              "    .dataframe thead th {\n",
              "        text-align: right;\n",
              "    }\n",
              "</style>\n",
              "<table border=\"1\" class=\"dataframe\">\n",
              "  <thead>\n",
              "    <tr style=\"text-align: right;\">\n",
              "      <th></th>\n",
              "      <th>Bairro</th>\n",
              "      <th>Metragem</th>\n",
              "    </tr>\n",
              "  </thead>\n",
              "  <tbody>\n",
              "    <tr>\n",
              "      <th>0</th>\n",
              "      <td>Aclimação</td>\n",
              "      <td>253.056818</td>\n",
              "    </tr>\n",
              "    <tr>\n",
              "      <th>1</th>\n",
              "      <td>Alto da Boa Vista</td>\n",
              "      <td>418.875000</td>\n",
              "    </tr>\n",
              "    <tr>\n",
              "      <th>2</th>\n",
              "      <td>Alto da Lapa</td>\n",
              "      <td>294.337209</td>\n",
              "    </tr>\n",
              "    <tr>\n",
              "      <th>3</th>\n",
              "      <td>Alto da Mooca</td>\n",
              "      <td>270.050000</td>\n",
              "    </tr>\n",
              "    <tr>\n",
              "      <th>4</th>\n",
              "      <td>Alto de Pinheiros</td>\n",
              "      <td>433.444988</td>\n",
              "    </tr>\n",
              "    <tr>\n",
              "      <th>...</th>\n",
              "      <td>...</td>\n",
              "      <td>...</td>\n",
              "    </tr>\n",
              "    <tr>\n",
              "      <th>696</th>\n",
              "      <td>nan</td>\n",
              "      <td>621.333333</td>\n",
              "    </tr>\n",
              "    <tr>\n",
              "      <th>697</th>\n",
              "      <td>Água Branca</td>\n",
              "      <td>191.000000</td>\n",
              "    </tr>\n",
              "    <tr>\n",
              "      <th>698</th>\n",
              "      <td>Água Fria</td>\n",
              "      <td>165.416667</td>\n",
              "    </tr>\n",
              "    <tr>\n",
              "      <th>699</th>\n",
              "      <td>Água Funda</td>\n",
              "      <td>148.428571</td>\n",
              "    </tr>\n",
              "    <tr>\n",
              "      <th>700</th>\n",
              "      <td>Água Rasa</td>\n",
              "      <td>340.250000</td>\n",
              "    </tr>\n",
              "  </tbody>\n",
              "</table>\n",
              "<p>701 rows × 2 columns</p>\n",
              "</div>\n",
              "      <button class=\"colab-df-convert\" onclick=\"convertToInteractive('df-af30b0c0-953f-48e6-abb7-ea3014ed654f')\"\n",
              "              title=\"Convert this dataframe to an interactive table.\"\n",
              "              style=\"display:none;\">\n",
              "        \n",
              "  <svg xmlns=\"http://www.w3.org/2000/svg\" height=\"24px\"viewBox=\"0 0 24 24\"\n",
              "       width=\"24px\">\n",
              "    <path d=\"M0 0h24v24H0V0z\" fill=\"none\"/>\n",
              "    <path d=\"M18.56 5.44l.94 2.06.94-2.06 2.06-.94-2.06-.94-.94-2.06-.94 2.06-2.06.94zm-11 1L8.5 8.5l.94-2.06 2.06-.94-2.06-.94L8.5 2.5l-.94 2.06-2.06.94zm10 10l.94 2.06.94-2.06 2.06-.94-2.06-.94-.94-2.06-.94 2.06-2.06.94z\"/><path d=\"M17.41 7.96l-1.37-1.37c-.4-.4-.92-.59-1.43-.59-.52 0-1.04.2-1.43.59L10.3 9.45l-7.72 7.72c-.78.78-.78 2.05 0 2.83L4 21.41c.39.39.9.59 1.41.59.51 0 1.02-.2 1.41-.59l7.78-7.78 2.81-2.81c.8-.78.8-2.07 0-2.86zM5.41 20L4 18.59l7.72-7.72 1.47 1.35L5.41 20z\"/>\n",
              "  </svg>\n",
              "      </button>\n",
              "      \n",
              "  <style>\n",
              "    .colab-df-container {\n",
              "      display:flex;\n",
              "      flex-wrap:wrap;\n",
              "      gap: 12px;\n",
              "    }\n",
              "\n",
              "    .colab-df-convert {\n",
              "      background-color: #E8F0FE;\n",
              "      border: none;\n",
              "      border-radius: 50%;\n",
              "      cursor: pointer;\n",
              "      display: none;\n",
              "      fill: #1967D2;\n",
              "      height: 32px;\n",
              "      padding: 0 0 0 0;\n",
              "      width: 32px;\n",
              "    }\n",
              "\n",
              "    .colab-df-convert:hover {\n",
              "      background-color: #E2EBFA;\n",
              "      box-shadow: 0px 1px 2px rgba(60, 64, 67, 0.3), 0px 1px 3px 1px rgba(60, 64, 67, 0.15);\n",
              "      fill: #174EA6;\n",
              "    }\n",
              "\n",
              "    [theme=dark] .colab-df-convert {\n",
              "      background-color: #3B4455;\n",
              "      fill: #D2E3FC;\n",
              "    }\n",
              "\n",
              "    [theme=dark] .colab-df-convert:hover {\n",
              "      background-color: #434B5C;\n",
              "      box-shadow: 0px 1px 3px 1px rgba(0, 0, 0, 0.15);\n",
              "      filter: drop-shadow(0px 1px 2px rgba(0, 0, 0, 0.3));\n",
              "      fill: #FFFFFF;\n",
              "    }\n",
              "  </style>\n",
              "\n",
              "      <script>\n",
              "        const buttonEl =\n",
              "          document.querySelector('#df-af30b0c0-953f-48e6-abb7-ea3014ed654f button.colab-df-convert');\n",
              "        buttonEl.style.display =\n",
              "          google.colab.kernel.accessAllowed ? 'block' : 'none';\n",
              "\n",
              "        async function convertToInteractive(key) {\n",
              "          const element = document.querySelector('#df-af30b0c0-953f-48e6-abb7-ea3014ed654f');\n",
              "          const dataTable =\n",
              "            await google.colab.kernel.invokeFunction('convertToInteractive',\n",
              "                                                     [key], {});\n",
              "          if (!dataTable) return;\n",
              "\n",
              "          const docLinkHtml = 'Like what you see? Visit the ' +\n",
              "            '<a target=\"_blank\" href=https://colab.research.google.com/notebooks/data_table.ipynb>data table notebook</a>'\n",
              "            + ' to learn more about interactive tables.';\n",
              "          element.innerHTML = '';\n",
              "          dataTable['output_type'] = 'display_data';\n",
              "          await google.colab.output.renderOutput(dataTable, element);\n",
              "          const docLink = document.createElement('div');\n",
              "          docLink.innerHTML = docLinkHtml;\n",
              "          element.appendChild(docLink);\n",
              "        }\n",
              "      </script>\n",
              "    </div>\n",
              "  </div>\n",
              "  "
            ]
          },
          "metadata": {},
          "execution_count": 145
        }
      ]
    },
    {
      "cell_type": "markdown",
      "source": [
        "<hr>"
      ],
      "metadata": {
        "id": "hDZMG8zxkqOq"
      }
    },
    {
      "cell_type": "markdown",
      "source": [
        "DESAFIO # 2:\n",
        "\n",
        "2 formas de selecionar os dados por bairro (consultar os métodos na documentação do pandas) (Thiago)"
      ],
      "metadata": {
        "id": "QI3uLCSnBF41"
      }
    },
    {
      "cell_type": "code",
      "source": [
        "dados.Bairro.head()"
      ],
      "metadata": {
        "id": "m1mbja1W-CGn",
        "colab": {
          "base_uri": "https://localhost:8080/"
        },
        "outputId": "10bb4a34-9fcd-421a-bdbd-9a9ce3e2e5ef"
      },
      "execution_count": null,
      "outputs": [
        {
          "output_type": "execute_result",
          "data": {
            "text/plain": [
              "0     Planalto Paulista\n",
              "1    Jardim dos Estados\n",
              "2       Jardim Reimberg\n",
              "3        Jardim Morumbi\n",
              "4                 Mooca\n",
              "Name: Bairro, dtype: object"
            ]
          },
          "metadata": {},
          "execution_count": 146
        }
      ]
    },
    {
      "cell_type": "code",
      "source": [
        "dados[\"Bairro\"].head()"
      ],
      "metadata": {
        "id": "7PIcFbJj-JWR",
        "colab": {
          "base_uri": "https://localhost:8080/"
        },
        "outputId": "6b6ec255-9161-4ea0-c946-8c41efb5819f"
      },
      "execution_count": null,
      "outputs": [
        {
          "output_type": "execute_result",
          "data": {
            "text/plain": [
              "0     Planalto Paulista\n",
              "1    Jardim dos Estados\n",
              "2       Jardim Reimberg\n",
              "3        Jardim Morumbi\n",
              "4                 Mooca\n",
              "Name: Bairro, dtype: object"
            ]
          },
          "metadata": {},
          "execution_count": 147
        }
      ]
    },
    {
      "cell_type": "markdown",
      "source": [
        "<hr>"
      ],
      "metadata": {
        "id": "V8_7q23YkspR"
      }
    },
    {
      "cell_type": "markdown",
      "source": [
        "DESAFIO # 3\n",
        "\n",
        " Explorar alguns gráficos na documentação e aplicar nas demais colunas do DF, tentar colocar alguma conclusão (Thiago)"
      ],
      "metadata": {
        "id": "S24p8P_4LpOg"
      }
    },
    {
      "cell_type": "code",
      "source": [
        "dados.hist(figsize=(10,6), layout=(2,3), bins=20)\n",
        "print()"
      ],
      "metadata": {
        "id": "b35Mc3wS-Mfg",
        "colab": {
          "base_uri": "https://localhost:8080/",
          "height": 423
        },
        "outputId": "38a5b8d8-ca79-4b72-a150-36683bfe584b"
      },
      "execution_count": null,
      "outputs": [
        {
          "output_type": "stream",
          "name": "stdout",
          "text": [
            "\n"
          ]
        },
        {
          "output_type": "display_data",
          "data": {
            "text/plain": [
              "<Figure size 720x432 with 6 Axes>"
            ],
            "image/png": "[encoded data removed]"
          },
          "metadata": {}
        }
      ]
    },
    {
      "cell_type": "code",
      "source": [
        "import seaborn as sns # importando a biblioteca gráfica Seaborn"
      ],
      "metadata": {
        "id": "xDvlvZQ5-SQ0"
      },
      "execution_count": null,
      "outputs": []
    },
    {
      "cell_type": "code",
      "source": [
        "sns.pairplot(dados) # exibe um gráfico de comparação de pares"
      ],
      "metadata": {
        "id": "SilpcO6F-VUG",
        "colab": {
          "base_uri": "https://localhost:8080/",
          "height": 918
        },
        "outputId": "1b8f9736-75f1-4551-c2a7-ba6c0b806da5"
      },
      "execution_count": null,
      "outputs": [
        {
          "output_type": "execute_result",
          "data": {
            "text/plain": [
              "<seaborn.axisgrid.PairGrid at 0x7f92978c9c90>"
            ]
          },
          "metadata": {},
          "execution_count": 150
        },
        {
          "output_type": "display_data",
          "data": {
            "text/plain": [
              "<Figure size 900x900 with 30 Axes>"
            ],
            "image/png": "[encoded data removed]"
          },
          "metadata": {}
        }
      ]
    },
    {
      "cell_type": "code",
      "source": [
        "ax = sns.boxplot(x='Quartos', y= 'Valor', data=dados, palette='Set3', linewidth=1.5)\n",
        "\n",
        "ax = sns.set(rc = {'figure.figsize':(15,10)})"
      ],
      "metadata": {
        "colab": {
          "base_uri": "https://localhost:8080/",
          "height": 622
        },
        "id": "uQCPlyAFf9yo",
        "outputId": "367dc0e7-3681-45af-c321-5d2c9c5482c2"
      },
      "execution_count": null,
      "outputs": [
        {
          "output_type": "display_data",
          "data": {
            "text/plain": [
              "<Figure size 1080x720 with 1 Axes>"
            ],
            "image/png": "[encoded data removed]"
          },
          "metadata": {}
        }
      ]
    },
    {
      "cell_type": "markdown",
      "source": [
        "<hr>"
      ],
      "metadata": {
        "id": "8BVaW1Cmkvvg"
      }
    },
    {
      "cell_type": "markdown",
      "source": [
        "DESAFIO # 4\n",
        "\n",
        " Pegar outros estatísticas dos dados, média, mediana, mim, max (Vivi)"
      ],
      "metadata": {
        "id": "IvMmBiOFiN1n"
      }
    },
    {
      "cell_type": "code",
      "source": [
        "dados.describe().T # Obtendo a contagem dos dados, média, desvio-padrão, quartis, mediana, valor mínimo e máximo:"
      ],
      "metadata": {
        "id": "CLr27dWk_oBK",
        "colab": {
          "base_uri": "https://localhost:8080/",
          "height": 206
        },
        "outputId": "7d83b78d-bda6-40f4-94da-eaa4cd40e029"
      },
      "execution_count": null,
      "outputs": [
        {
          "output_type": "execute_result",
          "data": {
            "text/plain": [
              "             count          mean           std     min       25%        50%  \\\n",
              "Metragem   10008.0  4.423007e+02  7.515379e+03    10.0     173.0      290.0   \n",
              "Quartos    10008.0  3.483114e+00  1.064200e+00     1.0       3.0        3.0   \n",
              "Banheiros  10008.0  3.879097e+00  1.988467e+00     1.0       2.0        4.0   \n",
              "Vagas      10008.0  4.097222e+00  2.824014e+00     1.0       2.0        4.0   \n",
              "Valor      10008.0  2.794170e+06  3.866249e+06  1650.0  750000.0  1600000.0   \n",
              "\n",
              "                  75%         max  \n",
              "Metragem       460.25    750000.0  \n",
              "Quartos          4.00        16.0  \n",
              "Banheiros        5.00        40.0  \n",
              "Vagas            5.00        50.0  \n",
              "Valor      3350000.00  65000000.0  "
            ],
            "text/html": [
              "\n",
              "  <div id=\"df-55d6e414-79bd-4939-9157-c574c8a84b5a\">\n",
              "    <div class=\"colab-df-container\">\n",
              "      <div>\n",
              "<style scoped>\n",
              "    .dataframe tbody tr th:only-of-type {\n",
              "        vertical-align: middle;\n",
              "    }\n",
              "\n",
              "    .dataframe tbody tr th {\n",
              "        vertical-align: top;\n",
              "    }\n",
              "\n",
              "    .dataframe thead th {\n",
              "        text-align: right;\n",
              "    }\n",
              "</style>\n",
              "<table border=\"1\" class=\"dataframe\">\n",
              "  <thead>\n",
              "    <tr style=\"text-align: right;\">\n",
              "      <th></th>\n",
              "      <th>count</th>\n",
              "      <th>mean</th>\n",
              "      <th>std</th>\n",
              "      <th>min</th>\n",
              "      <th>25%</th>\n",
              "      <th>50%</th>\n",
              "      <th>75%</th>\n",
              "      <th>max</th>\n",
              "    </tr>\n",
              "  </thead>\n",
              "  <tbody>\n",
              "    <tr>\n",
              "      <th>Metragem</th>\n",
              "      <td>10008.0</td>\n",
              "      <td>4.423007e+02</td>\n",
              "      <td>7.515379e+03</td>\n",
              "      <td>10.0</td>\n",
              "      <td>173.0</td>\n",
              "      <td>290.0</td>\n",
              "      <td>460.25</td>\n",
              "      <td>750000.0</td>\n",
              "    </tr>\n",
              "    <tr>\n",
              "      <th>Quartos</th>\n",
              "      <td>10008.0</td>\n",
              "      <td>3.483114e+00</td>\n",
              "      <td>1.064200e+00</td>\n",
              "      <td>1.0</td>\n",
              "      <td>3.0</td>\n",
              "      <td>3.0</td>\n",
              "      <td>4.00</td>\n",
              "      <td>16.0</td>\n",
              "    </tr>\n",
              "    <tr>\n",
              "      <th>Banheiros</th>\n",
              "      <td>10008.0</td>\n",
              "      <td>3.879097e+00</td>\n",
              "      <td>1.988467e+00</td>\n",
              "      <td>1.0</td>\n",
              "      <td>2.0</td>\n",
              "      <td>4.0</td>\n",
              "      <td>5.00</td>\n",
              "      <td>40.0</td>\n",
              "    </tr>\n",
              "    <tr>\n",
              "      <th>Vagas</th>\n",
              "      <td>10008.0</td>\n",
              "      <td>4.097222e+00</td>\n",
              "      <td>2.824014e+00</td>\n",
              "      <td>1.0</td>\n",
              "      <td>2.0</td>\n",
              "      <td>4.0</td>\n",
              "      <td>5.00</td>\n",
              "      <td>50.0</td>\n",
              "    </tr>\n",
              "    <tr>\n",
              "      <th>Valor</th>\n",
              "      <td>10008.0</td>\n",
              "      <td>2.794170e+06</td>\n",
              "      <td>3.866249e+06</td>\n",
              "      <td>1650.0</td>\n",
              "      <td>750000.0</td>\n",
              "      <td>1600000.0</td>\n",
              "      <td>3350000.00</td>\n",
              "      <td>65000000.0</td>\n",
              "    </tr>\n",
              "  </tbody>\n",
              "</table>\n",
              "</div>\n",
              "      <button class=\"colab-df-convert\" onclick=\"convertToInteractive('df-55d6e414-79bd-4939-9157-c574c8a84b5a')\"\n",
              "              title=\"Convert this dataframe to an interactive table.\"\n",
              "              style=\"display:none;\">\n",
              "        \n",
              "  <svg xmlns=\"http://www.w3.org/2000/svg\" height=\"24px\"viewBox=\"0 0 24 24\"\n",
              "       width=\"24px\">\n",
              "    <path d=\"M0 0h24v24H0V0z\" fill=\"none\"/>\n",
              "    <path d=\"M18.56 5.44l.94 2.06.94-2.06 2.06-.94-2.06-.94-.94-2.06-.94 2.06-2.06.94zm-11 1L8.5 8.5l.94-2.06 2.06-.94-2.06-.94L8.5 2.5l-.94 2.06-2.06.94zm10 10l.94 2.06.94-2.06 2.06-.94-2.06-.94-.94-2.06-.94 2.06-2.06.94z\"/><path d=\"M17.41 7.96l-1.37-1.37c-.4-.4-.92-.59-1.43-.59-.52 0-1.04.2-1.43.59L10.3 9.45l-7.72 7.72c-.78.78-.78 2.05 0 2.83L4 21.41c.39.39.9.59 1.41.59.51 0 1.02-.2 1.41-.59l7.78-7.78 2.81-2.81c.8-.78.8-2.07 0-2.86zM5.41 20L4 18.59l7.72-7.72 1.47 1.35L5.41 20z\"/>\n",
              "  </svg>\n",
              "      </button>\n",
              "      \n",
              "  <style>\n",
              "    .colab-df-container {\n",
              "      display:flex;\n",
              "      flex-wrap:wrap;\n",
              "      gap: 12px;\n",
              "    }\n",
              "\n",
              "    .colab-df-convert {\n",
              "      background-color: #E8F0FE;\n",
              "      border: none;\n",
              "      border-radius: 50%;\n",
              "      cursor: pointer;\n",
              "      display: none;\n",
              "      fill: #1967D2;\n",
              "      height: 32px;\n",
              "      padding: 0 0 0 0;\n",
              "      width: 32px;\n",
              "    }\n",
              "\n",
              "    .colab-df-convert:hover {\n",
              "      background-color: #E2EBFA;\n",
              "      box-shadow: 0px 1px 2px rgba(60, 64, 67, 0.3), 0px 1px 3px 1px rgba(60, 64, 67, 0.15);\n",
              "      fill: #174EA6;\n",
              "    }\n",
              "\n",
              "    [theme=dark] .colab-df-convert {\n",
              "      background-color: #3B4455;\n",
              "      fill: #D2E3FC;\n",
              "    }\n",
              "\n",
              "    [theme=dark] .colab-df-convert:hover {\n",
              "      background-color: #434B5C;\n",
              "      box-shadow: 0px 1px 3px 1px rgba(0, 0, 0, 0.15);\n",
              "      filter: drop-shadow(0px 1px 2px rgba(0, 0, 0, 0.3));\n",
              "      fill: #FFFFFF;\n",
              "    }\n",
              "  </style>\n",
              "\n",
              "      <script>\n",
              "        const buttonEl =\n",
              "          document.querySelector('#df-55d6e414-79bd-4939-9157-c574c8a84b5a button.colab-df-convert');\n",
              "        buttonEl.style.display =\n",
              "          google.colab.kernel.accessAllowed ? 'block' : 'none';\n",
              "\n",
              "        async function convertToInteractive(key) {\n",
              "          const element = document.querySelector('#df-55d6e414-79bd-4939-9157-c574c8a84b5a');\n",
              "          const dataTable =\n",
              "            await google.colab.kernel.invokeFunction('convertToInteractive',\n",
              "                                                     [key], {});\n",
              "          if (!dataTable) return;\n",
              "\n",
              "          const docLinkHtml = 'Like what you see? Visit the ' +\n",
              "            '<a target=\"_blank\" href=https://colab.research.google.com/notebooks/data_table.ipynb>data table notebook</a>'\n",
              "            + ' to learn more about interactive tables.';\n",
              "          element.innerHTML = '';\n",
              "          dataTable['output_type'] = 'display_data';\n",
              "          await google.colab.output.renderOutput(dataTable, element);\n",
              "          const docLink = document.createElement('div');\n",
              "          docLink.innerHTML = docLinkHtml;\n",
              "          element.appendChild(docLink);\n",
              "        }\n",
              "      </script>\n",
              "    </div>\n",
              "  </div>\n",
              "  "
            ]
          },
          "metadata": {},
          "execution_count": 152
        }
      ]
    },
    {
      "cell_type": "markdown",
      "source": [
        "<hr>"
      ],
      "metadata": {
        "id": "TiZRNwMSkxxW"
      }
    },
    {
      "cell_type": "markdown",
      "source": [
        "DESAFIO # 5\n",
        "\n",
        "Descobrir quais são os bairros que não tem nome de Rua. (Vivi)"
      ],
      "metadata": {
        "id": "gx0-L9w9iW0U"
      }
    },
    {
      "cell_type": "code",
      "source": [
        "ruas_sem_nome = dados.Rua.isnull() # localizando as ruas que estão sem nome (campos vazios ou NAN)"
      ],
      "metadata": {
        "id": "RisrmyjSAtTf"
      },
      "execution_count": null,
      "outputs": []
    },
    {
      "cell_type": "code",
      "source": [
        "dados['Bairro'][ruas_sem_nome] # filtrando os dados pelos Bairros que possuem ruas sem nome"
      ],
      "metadata": {
        "id": "emykPxBOAzr0",
        "colab": {
          "base_uri": "https://localhost:8080/"
        },
        "outputId": "35fa5cac-e35c-4414-e1fd-3a7b798a9d42"
      },
      "execution_count": null,
      "outputs": [
        {
          "output_type": "execute_result",
          "data": {
            "text/plain": [
              "3                         Jardim Morumbi\n",
              "11                      Jardim Luzitânia\n",
              "31                        Parque da Lapa\n",
              "56      Chácara Santo Antônio (Zona Sul)\n",
              "57                        Jardim Guedala\n",
              "                      ...               \n",
              "9963                   Jardim Petrópolis\n",
              "9989                Parque Alves de Lima\n",
              "9991                        Vila Formosa\n",
              "9995                       Jardim Leonor\n",
              "9999                   Jardim Petrópolis\n",
              "Name: Bairro, Length: 3434, dtype: object"
            ]
          },
          "metadata": {},
          "execution_count": 154
        }
      ]
    }
  ]
}